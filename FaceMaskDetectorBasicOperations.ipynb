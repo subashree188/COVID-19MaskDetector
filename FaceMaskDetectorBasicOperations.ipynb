{
 "cells": [
  {
   "cell_type": "code",
   "execution_count": 1,
   "metadata": {},
   "outputs": [
    {
     "name": "stdout",
     "output_type": "stream",
     "text": [
      "Collecting opencv-python\n",
      "  Downloading opencv_python-4.4.0.46-cp38-cp38-win_amd64.whl (33.5 MB)\n",
      "Requirement already satisfied: numpy>=1.17.3 in c:\\users\\dell\\anaconda3\\lib\\site-packages (from opencv-python) (1.18.5)\n",
      "Installing collected packages: opencv-python\n",
      "Successfully installed opencv-python-4.4.0.46\n"
     ]
    }
   ],
   "source": [
    "!pip install opencv-python"
   ]
  },
  {
   "cell_type": "code",
   "execution_count": 1,
   "metadata": {},
   "outputs": [],
   "source": [
    "import cv2"
   ]
  },
  {
   "cell_type": "code",
   "execution_count": 2,
   "metadata": {},
   "outputs": [],
   "source": [
    "img = cv2.imread('profilepic.jpg')"
   ]
  },
  {
   "cell_type": "code",
   "execution_count": 3,
   "metadata": {},
   "outputs": [
    {
     "data": {
      "text/plain": [
       "(164, 307, 3)"
      ]
     },
     "execution_count": 3,
     "metadata": {},
     "output_type": "execute_result"
    }
   ],
   "source": [
    "img.shape # (rows, columns, rgb color)"
   ]
  },
  {
   "cell_type": "code",
   "execution_count": 4,
   "metadata": {},
   "outputs": [
    {
     "data": {
      "text/plain": [
       "array([[ 57,  83,  69],\n",
       "       [ 60,  86,  72],\n",
       "       [ 66,  92,  78],\n",
       "       [ 72,  98,  84],\n",
       "       [ 75, 104,  88],\n",
       "       [ 77, 106,  90],\n",
       "       [ 78, 108,  89],\n",
       "       [ 78, 109,  88],\n",
       "       [ 90, 123, 102],\n",
       "       [ 91, 125, 101],\n",
       "       [ 89, 126, 100],\n",
       "       [ 91, 128, 102],\n",
       "       [ 92, 130, 102],\n",
       "       [ 93, 131, 103],\n",
       "       [ 92, 132, 104],\n",
       "       [ 92, 133, 102],\n",
       "       [ 97, 136, 104],\n",
       "       [ 96, 136, 101],\n",
       "       [ 95, 134, 102],\n",
       "       [ 93, 132, 100],\n",
       "       [ 91, 129,  99],\n",
       "       [ 89, 127,  97],\n",
       "       [ 88, 126,  98],\n",
       "       [ 87, 125,  97],\n",
       "       [ 83, 120,  94],\n",
       "       [ 88, 125,  99],\n",
       "       [ 95, 131, 107],\n",
       "       [100, 136, 112],\n",
       "       [ 99, 135, 113],\n",
       "       [ 94, 130, 108],\n",
       "       [ 87, 122, 102],\n",
       "       [ 81, 116,  96],\n",
       "       [ 80, 113,  92],\n",
       "       [ 76, 109,  88],\n",
       "       [ 70, 104,  80],\n",
       "       [ 64,  99,  73],\n",
       "       [ 61,  96,  70],\n",
       "       [ 60,  95,  68],\n",
       "       [ 63,  95,  70],\n",
       "       [ 65,  97,  73],\n",
       "       [ 64,  92,  72],\n",
       "       [ 59,  86,  70],\n",
       "       [ 58,  82,  74],\n",
       "       [ 59,  82,  78],\n",
       "       [ 54,  73,  78],\n",
       "       [ 46,  63,  72],\n",
       "       [ 50,  66,  79],\n",
       "       [ 63,  76,  92],\n",
       "       [ 63,  72,  92],\n",
       "       [ 72,  79,  99],\n",
       "       [ 80,  87, 107],\n",
       "       [ 85,  92, 112],\n",
       "       [ 87,  94, 114],\n",
       "       [ 90,  97, 117],\n",
       "       [ 95, 102, 122],\n",
       "       [100, 107, 127],\n",
       "       [108, 115, 135],\n",
       "       [ 95, 102, 122],\n",
       "       [ 80,  87, 107],\n",
       "       [ 74,  81, 101],\n",
       "       [ 76,  83, 103],\n",
       "       [ 75,  82, 102],\n",
       "       [ 67,  74,  94],\n",
       "       [ 60,  67,  86],\n",
       "       [ 45,  52,  71],\n",
       "       [ 42,  50,  67],\n",
       "       [ 41,  48,  68],\n",
       "       [ 47,  54,  74],\n",
       "       [ 56,  62,  85],\n",
       "       [ 61,  67,  90],\n",
       "       [ 57,  62,  87],\n",
       "       [ 51,  56,  81],\n",
       "       [ 43,  49,  72],\n",
       "       [ 42,  49,  69],\n",
       "       [ 41,  48,  68],\n",
       "       [ 41,  49,  66],\n",
       "       [ 45,  53,  70],\n",
       "       [ 51,  60,  73],\n",
       "       [ 57,  66,  79],\n",
       "       [ 58,  72,  78],\n",
       "       [ 58,  76,  77],\n",
       "       [ 55,  76,  73],\n",
       "       [ 52,  73,  70],\n",
       "       [ 48,  69,  66],\n",
       "       [ 47,  66,  63],\n",
       "       [ 43,  62,  59],\n",
       "       [ 40,  59,  56],\n",
       "       [ 39,  58,  55],\n",
       "       [ 46,  63,  60],\n",
       "       [ 43,  60,  57],\n",
       "       [ 41,  55,  53],\n",
       "       [ 37,  51,  49],\n",
       "       [ 34,  48,  46],\n",
       "       [ 34,  48,  46],\n",
       "       [ 34,  48,  46],\n",
       "       [ 29,  50,  47],\n",
       "       [ 15,  43,  43],\n",
       "       [ 21,  55,  54],\n",
       "       [ 38,  70,  69],\n",
       "       [ 53,  86,  82],\n",
       "       [ 65,  94,  91],\n",
       "       [ 67,  98,  91],\n",
       "       [ 66,  94,  88],\n",
       "       [ 63,  93,  82],\n",
       "       [ 70, 102,  91],\n",
       "       [ 62,  98,  82],\n",
       "       [ 57,  93,  77],\n",
       "       [ 57,  97,  79],\n",
       "       [ 69, 110,  89],\n",
       "       [ 83, 129, 107],\n",
       "       [100, 146, 123],\n",
       "       [104, 157, 130],\n",
       "       [104, 163, 135],\n",
       "       [ 97, 161, 131],\n",
       "       [ 96, 158, 128],\n",
       "       [ 93, 155, 125],\n",
       "       [ 95, 153, 125],\n",
       "       [ 95, 153, 125],\n",
       "       [ 99, 154, 127],\n",
       "       [100, 155, 128],\n",
       "       [ 97, 152, 127],\n",
       "       [ 93, 148, 123],\n",
       "       [ 85, 141, 118],\n",
       "       [ 78, 136, 112],\n",
       "       [ 73, 131, 107],\n",
       "       [ 69, 129, 105],\n",
       "       [ 66, 128, 106],\n",
       "       [ 66, 129, 103],\n",
       "       [ 58, 126,  91],\n",
       "       [ 60, 130,  90],\n",
       "       [ 64, 132,  91],\n",
       "       [ 65, 133,  92],\n",
       "       [ 64, 132,  91],\n",
       "       [ 62, 130,  89],\n",
       "       [ 62, 128,  87],\n",
       "       [ 60, 126,  85],\n",
       "       [ 58, 122,  86],\n",
       "       [ 63, 127,  91],\n",
       "       [ 69, 129,  98],\n",
       "       [ 66, 126,  95],\n",
       "       [ 60, 118,  90],\n",
       "       [ 59, 117,  89],\n",
       "       [ 64, 121,  96],\n",
       "       [ 71, 129, 101],\n",
       "       [ 60, 119,  91],\n",
       "       [ 54, 114,  84],\n",
       "       [ 48, 106,  78],\n",
       "       [ 44, 102,  74],\n",
       "       [ 50, 102,  79],\n",
       "       [ 59, 111,  88],\n",
       "       [ 72, 121,  99],\n",
       "       [ 79, 128, 106],\n",
       "       [ 82, 134, 111],\n",
       "       [ 79, 134, 109],\n",
       "       [ 74, 132, 107],\n",
       "       [ 68, 132, 102],\n",
       "       [ 65, 134, 101],\n",
       "       [ 63, 137, 101],\n",
       "       [ 64, 141, 103],\n",
       "       [ 65, 144, 105],\n",
       "       [ 53, 127,  91],\n",
       "       [ 53, 127,  91],\n",
       "       [ 54, 126,  90],\n",
       "       [ 50, 122,  86],\n",
       "       [ 45, 115,  79],\n",
       "       [ 37, 105,  70],\n",
       "       [ 31,  96,  64],\n",
       "       [ 30,  90,  59],\n",
       "       [ 16,  74,  46],\n",
       "       [ 23,  78,  51],\n",
       "       [ 35,  84,  62],\n",
       "       [ 42,  91,  71],\n",
       "       [ 48,  92,  75],\n",
       "       [ 48,  91,  76],\n",
       "       [ 48,  88,  76],\n",
       "       [ 44,  87,  72],\n",
       "       [ 61, 110,  90],\n",
       "       [ 56, 108,  85],\n",
       "       [ 51, 103,  80],\n",
       "       [ 46,  98,  75],\n",
       "       [ 41,  95,  72],\n",
       "       [ 37,  93,  70],\n",
       "       [ 37,  93,  70],\n",
       "       [ 37,  95,  71],\n",
       "       [ 25,  85,  61],\n",
       "       [ 21,  81,  57],\n",
       "       [ 14,  76,  52],\n",
       "       [ 12,  74,  50],\n",
       "       [ 15,  80,  55],\n",
       "       [ 25,  90,  65],\n",
       "       [ 36, 102,  77],\n",
       "       [ 42, 110,  87],\n",
       "       [ 33, 100,  79],\n",
       "       [ 31, 100,  80],\n",
       "       [ 33,  98,  77],\n",
       "       [ 32,  95,  75],\n",
       "       [ 36,  95,  75],\n",
       "       [ 43,  99,  78],\n",
       "       [ 51, 104,  84],\n",
       "       [ 58, 110,  87],\n",
       "       [ 58, 106,  82],\n",
       "       [ 62, 110,  86],\n",
       "       [ 60, 107,  81],\n",
       "       [ 54, 101,  75],\n",
       "       [ 60, 108,  80],\n",
       "       [ 80, 128, 100],\n",
       "       [ 96, 145, 117],\n",
       "       [102, 151, 123],\n",
       "       [ 98, 142, 119],\n",
       "       [ 93, 137, 114],\n",
       "       [ 83, 125, 102],\n",
       "       [ 66, 108,  85],\n",
       "       [ 54,  96,  73],\n",
       "       [ 54,  96,  73],\n",
       "       [ 66, 107,  86],\n",
       "       [ 78, 119,  98],\n",
       "       [ 86, 124, 106],\n",
       "       [ 85, 123, 105],\n",
       "       [ 77, 115,  97],\n",
       "       [ 61,  99,  81],\n",
       "       [ 45,  81,  64],\n",
       "       [ 37,  73,  56],\n",
       "       [ 39,  75,  59],\n",
       "       [ 43,  80,  64],\n",
       "       [ 49,  90,  75],\n",
       "       [ 44,  89,  73],\n",
       "       [ 43,  88,  72],\n",
       "       [ 39,  88,  72],\n",
       "       [ 42,  91,  75],\n",
       "       [ 43,  97,  80],\n",
       "       [ 48, 102,  85],\n",
       "       [ 51, 106,  89],\n",
       "       [ 58, 116,  98],\n",
       "       [ 52, 110,  92],\n",
       "       [ 48, 103,  86],\n",
       "       [ 49, 104,  87],\n",
       "       [ 52, 106,  89],\n",
       "       [ 46, 100,  83],\n",
       "       [ 33,  85,  68],\n",
       "       [ 23,  69,  56],\n",
       "       [ 13,  47,  41],\n",
       "       [ 24,  53,  50],\n",
       "       [ 34,  66,  61],\n",
       "       [ 46,  79,  72],\n",
       "       [ 52,  86,  79],\n",
       "       [ 51,  89,  77],\n",
       "       [ 49,  88,  73],\n",
       "       [ 43,  88,  69],\n",
       "       [ 47,  93,  71],\n",
       "       [ 61, 112,  85],\n",
       "       [ 82, 133, 106],\n",
       "       [ 89, 146, 115],\n",
       "       [ 90, 147, 116],\n",
       "       [ 88, 148, 114],\n",
       "       [ 91, 153, 117],\n",
       "       [ 96, 158, 122],\n",
       "       [100, 158, 123],\n",
       "       [ 98, 159, 123],\n",
       "       [ 98, 159, 123],\n",
       "       [ 91, 155, 119],\n",
       "       [ 83, 147, 112],\n",
       "       [ 70, 136, 101],\n",
       "       [ 57, 125,  90],\n",
       "       [ 51, 119,  84],\n",
       "       [ 51, 114,  82],\n",
       "       [ 47, 107,  76],\n",
       "       [ 43, 101,  72],\n",
       "       [ 46, 100,  71],\n",
       "       [ 53, 102,  74],\n",
       "       [ 57, 102,  75],\n",
       "       [ 57, 100,  73],\n",
       "       [ 53,  95,  70],\n",
       "       [ 47,  93,  71],\n",
       "       [ 54, 100,  81],\n",
       "       [ 61, 107,  88],\n",
       "       [ 62, 108,  89],\n",
       "       [ 57, 104,  82],\n",
       "       [ 55, 102,  80],\n",
       "       [ 58, 106,  82],\n",
       "       [ 63, 111,  87],\n",
       "       [ 79, 127, 103],\n",
       "       [ 77, 125, 101],\n",
       "       [ 75, 123,  97],\n",
       "       [ 74, 122,  96],\n",
       "       [ 72, 120,  94],\n",
       "       [ 67, 115,  89],\n",
       "       [ 60, 109,  81],\n",
       "       [ 53, 104,  77],\n",
       "       [ 46,  97,  77],\n",
       "       [ 45,  98,  78],\n",
       "       [ 49, 100,  80],\n",
       "       [ 50, 102,  78],\n",
       "       [ 54, 105,  78],\n",
       "       [ 60, 112,  82],\n",
       "       [ 71, 121,  91],\n",
       "       [ 77, 127,  95],\n",
       "       [ 80, 129,  97],\n",
       "       [ 79, 128,  96],\n",
       "       [ 81, 124,  97],\n",
       "       [ 74, 116,  91],\n",
       "       [ 65, 104,  82],\n",
       "       [ 52,  91,  70],\n",
       "       [ 39,  76,  60],\n",
       "       [ 32,  69,  53],\n",
       "       [ 41,  76,  62],\n",
       "       [ 43,  78,  64],\n",
       "       [ 45,  80,  66]], dtype=uint8)"
      ]
     },
     "execution_count": 4,
     "metadata": {},
     "output_type": "execute_result"
    }
   ],
   "source": [
    "img[0] #first row of image"
   ]
  },
  {
   "cell_type": "code",
   "execution_count": 5,
   "metadata": {},
   "outputs": [],
   "source": [
    "import matplotlib.pyplot as plt"
   ]
  },
  {
   "cell_type": "code",
   "execution_count": 6,
   "metadata": {},
   "outputs": [
    {
     "data": {
      "text/plain": [
       "<matplotlib.image.AxesImage at 0x14723cd6fa0>"
      ]
     },
     "execution_count": 6,
     "metadata": {},
     "output_type": "execute_result"
    },
    {
     "data": {
      "image/png": "[encoded data removed]",
      "text/plain": [
       "<Figure size 432x288 with 1 Axes>"
      ]
     },
     "metadata": {
      "needs_background": "light"
     },
     "output_type": "display_data"
    }
   ],
   "source": [
    "plt.imshow(img)"
   ]
  },
  {
   "cell_type": "code",
   "execution_count": 7,
   "metadata": {},
   "outputs": [],
   "source": [
    "#cv2.imshow('result', img) #(new window name, image to be opened) => Not responding"
   ]
  },
  {
   "cell_type": "code",
   "execution_count": 8,
   "metadata": {},
   "outputs": [],
   "source": [
    " while True:\n",
    "    cv2.imshow('result', img)\n",
    "    if cv2.waitKey(2)==27: # 27 is ASCII value of Escape, hence window will be closed only if you presss escape key\n",
    "        break\n",
    "cv2.destroyAllWindows()"
   ]
  },
  {
   "cell_type": "code",
   "execution_count": null,
   "metadata": {},
   "outputs": [],
   "source": []
  },
  {
   "cell_type": "code",
   "execution_count": 9,
   "metadata": {},
   "outputs": [],
   "source": [
    "haar_data = cv2.CascadeClassifier('data.xml')"
   ]
  },
  {
   "cell_type": "code",
   "execution_count": 10,
   "metadata": {},
   "outputs": [
    {
     "data": {
      "text/plain": [
       "array([[123,  30,  60,  60],\n",
       "       [169,  41,  61,  61],\n",
       "       [ 29,  42,  60,  60],\n",
       "       [ 69,  37,  70,  70],\n",
       "       [216,  48,  62,  62]], dtype=int32)"
      ]
     },
     "execution_count": 10,
     "metadata": {},
     "output_type": "execute_result"
    }
   ],
   "source": [
    "haar_data.detectMultiScale(img)"
   ]
  },
  {
   "cell_type": "code",
   "execution_count": null,
   "metadata": {},
   "outputs": [],
   "source": []
  },
  {
   "cell_type": "code",
   "execution_count": 11,
   "metadata": {},
   "outputs": [],
   "source": [
    "#cv2.rectangle(img, (x,y), (w,h), (b,g,r), border_thickness) -> to draw a rectangle around the face"
   ]
  },
  {
   "cell_type": "code",
   "execution_count": 12,
   "metadata": {},
   "outputs": [],
   "source": [
    " while True:\n",
    "    faces = haar_data.detectMultiScale(img)\n",
    "    for x,y,w,h in faces:\n",
    "        cv2.rectangle(img, (x, y), (x+w, y+h), (255, 0, 255), 4)\n",
    "    cv2.imshow('result', img)\n",
    "    if cv2.waitKey(2)==27: # 27 is ASCII value of Escape, hence window will be closed only if you presss escape key\n",
    "        break\n",
    "cv2.destroyAllWindows()"
   ]
  },
  {
   "cell_type": "code",
   "execution_count": null,
   "metadata": {},
   "outputs": [],
   "source": []
  },
  {
   "cell_type": "code",
   "execution_count": 14,
   "metadata": {},
   "outputs": [],
   "source": [
    "import numpy as np"
   ]
  },
  {
   "cell_type": "code",
   "execution_count": 15,
   "metadata": {},
   "outputs": [
    {
     "data": {
      "text/plain": [
       "array([3, 2, 4, 5])"
      ]
     },
     "execution_count": 15,
     "metadata": {},
     "output_type": "execute_result"
    }
   ],
   "source": [
    "x = np.array([3,2,4,5])\n",
    "x"
   ]
  },
  {
   "cell_type": "code",
   "execution_count": 16,
   "metadata": {},
   "outputs": [
    {
     "data": {
      "text/plain": [
       "array([3, 2, 4])"
      ]
     },
     "execution_count": 16,
     "metadata": {},
     "output_type": "execute_result"
    }
   ],
   "source": [
    "x[0:3]"
   ]
  },
  {
   "cell_type": "code",
   "execution_count": 17,
   "metadata": {},
   "outputs": [
    {
     "data": {
      "text/plain": [
       "array([[ 1,  2,  3,  4,  5,  6],\n",
       "       [ 7,  8,  9, 10, 11, 12],\n",
       "       [13, 14, 15, 16, 17, 18],\n",
       "       [19, 20, 21, 22, 23, 24]])"
      ]
     },
     "execution_count": 17,
     "metadata": {},
     "output_type": "execute_result"
    }
   ],
   "source": [
    "# 2D array\n",
    "x = np.array([[1,2,3,4,5,6], [7,8,9,10,11,12], [13,14,15,16,17,18], [19,20,21,22,23,24]])\n",
    "x"
   ]
  },
  {
   "cell_type": "code",
   "execution_count": 18,
   "metadata": {},
   "outputs": [],
   "source": [
    "#slicing operations in 2D array"
   ]
  },
  {
   "cell_type": "code",
   "execution_count": 19,
   "metadata": {},
   "outputs": [
    {
     "data": {
      "text/plain": [
       "array([1, 2, 3, 4, 5, 6])"
      ]
     },
     "execution_count": 19,
     "metadata": {},
     "output_type": "execute_result"
    }
   ],
   "source": [
    "x[0]"
   ]
  },
  {
   "cell_type": "code",
   "execution_count": 20,
   "metadata": {},
   "outputs": [
    {
     "data": {
      "text/plain": [
       "array([2, 3, 4])"
      ]
     },
     "execution_count": 20,
     "metadata": {},
     "output_type": "execute_result"
    }
   ],
   "source": [
    "x[0][1:4]"
   ]
  },
  {
   "cell_type": "code",
   "execution_count": 21,
   "metadata": {},
   "outputs": [
    {
     "data": {
      "text/plain": [
       "array([[ 1,  2,  3],\n",
       "       [ 7,  8,  9],\n",
       "       [13, 14, 15]])"
      ]
     },
     "execution_count": 21,
     "metadata": {},
     "output_type": "execute_result"
    }
   ],
   "source": [
    "# x[indices of rows, indices of columns]\n",
    "x[0:3, 0:3]"
   ]
  },
  {
   "cell_type": "code",
   "execution_count": 22,
   "metadata": {},
   "outputs": [
    {
     "data": {
      "text/plain": [
       "array([[ 2,  3,  4],\n",
       "       [ 8,  9, 10],\n",
       "       [14, 15, 16],\n",
       "       [20, 21, 22]])"
      ]
     },
     "execution_count": 22,
     "metadata": {},
     "output_type": "execute_result"
    }
   ],
   "source": [
    "x[:, 1:4]"
   ]
  },
  {
   "cell_type": "code",
   "execution_count": null,
   "metadata": {},
   "outputs": [],
   "source": []
  },
  {
   "cell_type": "code",
   "execution_count": null,
   "metadata": {},
   "outputs": [],
   "source": []
  },
  {
   "cell_type": "code",
   "execution_count": 24,
   "metadata": {
    "scrolled": false
   },
   "outputs": [
    {
     "name": "stdout",
     "output_type": "stream",
     "text": [
      "0\n",
      "1\n",
      "2\n",
      "3\n",
      "4\n",
      "5\n",
      "6\n",
      "7\n",
      "8\n",
      "9\n",
      "10\n",
      "11\n",
      "12\n",
      "13\n",
      "14\n",
      "15\n",
      "16\n",
      "17\n",
      "18\n",
      "19\n",
      "20\n",
      "21\n",
      "22\n",
      "23\n",
      "24\n",
      "25\n",
      "26\n",
      "27\n",
      "28\n",
      "29\n",
      "30\n",
      "31\n",
      "32\n",
      "33\n",
      "34\n",
      "35\n",
      "36\n",
      "37\n",
      "38\n",
      "39\n",
      "40\n",
      "41\n",
      "42\n",
      "43\n",
      "44\n",
      "45\n",
      "46\n",
      "47\n",
      "48\n",
      "49\n",
      "50\n",
      "51\n",
      "52\n",
      "53\n",
      "54\n",
      "55\n",
      "56\n",
      "57\n",
      "58\n",
      "59\n",
      "60\n",
      "61\n",
      "62\n",
      "63\n",
      "64\n",
      "65\n",
      "66\n",
      "67\n",
      "68\n",
      "69\n",
      "70\n",
      "71\n",
      "72\n",
      "73\n",
      "74\n",
      "75\n",
      "76\n",
      "77\n",
      "78\n",
      "79\n",
      "80\n",
      "81\n",
      "82\n",
      "83\n",
      "84\n",
      "85\n",
      "86\n",
      "87\n",
      "88\n",
      "89\n",
      "90\n",
      "91\n",
      "92\n",
      "93\n",
      "94\n",
      "95\n",
      "96\n",
      "97\n",
      "98\n",
      "99\n",
      "100\n",
      "101\n",
      "102\n",
      "103\n",
      "104\n",
      "105\n",
      "106\n",
      "107\n",
      "108\n",
      "109\n",
      "110\n",
      "111\n",
      "112\n",
      "113\n",
      "114\n",
      "115\n",
      "116\n",
      "117\n",
      "118\n",
      "119\n",
      "120\n",
      "121\n",
      "122\n",
      "123\n",
      "124\n",
      "125\n",
      "126\n",
      "127\n",
      "128\n",
      "129\n",
      "130\n",
      "131\n",
      "132\n",
      "133\n",
      "134\n",
      "135\n",
      "136\n",
      "137\n",
      "138\n",
      "139\n",
      "140\n",
      "141\n",
      "142\n",
      "143\n",
      "144\n",
      "145\n",
      "146\n",
      "147\n",
      "148\n",
      "149\n",
      "150\n",
      "151\n",
      "152\n",
      "153\n",
      "154\n",
      "155\n",
      "156\n",
      "157\n",
      "158\n",
      "159\n",
      "160\n",
      "161\n",
      "162\n",
      "163\n",
      "164\n",
      "165\n",
      "166\n",
      "167\n",
      "168\n",
      "169\n",
      "170\n",
      "171\n",
      "172\n",
      "173\n",
      "174\n",
      "175\n",
      "176\n",
      "177\n",
      "178\n",
      "179\n",
      "180\n",
      "181\n",
      "182\n",
      "183\n",
      "184\n",
      "185\n",
      "186\n",
      "187\n",
      "188\n",
      "189\n",
      "190\n",
      "191\n",
      "192\n",
      "193\n",
      "194\n",
      "195\n",
      "196\n",
      "197\n",
      "198\n",
      "199\n"
     ]
    }
   ],
   "source": [
    "#to collect our face data without a mask\n",
    "\n",
    "#to collect data from a video give the pathname of the video instead of 0 in VideoCapture()\n",
    "capture = cv2.VideoCapture(1) #opens camera, 0 for default camera, 1 for other camera\n",
    "data = []\n",
    "\n",
    "while True:\n",
    "    flag, img = capture.read() #returns flag->true if camera working properly, img->our face image\n",
    "    if flag:\n",
    "        faces = haar_data.detectMultiScale(img)\n",
    "        for x,y,w,h in faces:\n",
    "            cv2.rectangle(img, (x, y), (x+w, y+h), (255, 0, 255), 4)\n",
    "            #for slicing the face\n",
    "            face = img[y:y+h, x:x+w, :] #3D array slicing\n",
    "            #making all the faces as same dimensions\n",
    "            face = cv2.resize(face, (50,50))\n",
    "            print(len(data)) #prints no. of faces collected\n",
    "            if len(data) < 400: #collects less than 400 faces\n",
    "                data.append(face) #appends the faces into data array\n",
    "        cv2.imshow('result', img)\n",
    "        #27 is ASCII value of Escape, hence window will be closed only if you presss escape key\n",
    "        # when max 200 faces are collected the loop breaks\n",
    "        if cv2.waitKey(2)==27 or len(data)>=200: \n",
    "            break\n",
    "            \n",
    "capture.release() #releases the camera\n",
    "cv2.destroyAllWindows()"
   ]
  },
  {
   "cell_type": "code",
   "execution_count": 25,
   "metadata": {},
   "outputs": [],
   "source": [
    "np.save('without_mask.npy', data) #saves all the 200 face data captured from the above code from data to the .npy file"
   ]
  },
  {
   "cell_type": "code",
   "execution_count": null,
   "metadata": {},
   "outputs": [],
   "source": []
  },
  {
   "cell_type": "code",
   "execution_count": 30,
   "metadata": {},
   "outputs": [
    {
     "name": "stdout",
     "output_type": "stream",
     "text": [
      "0\n",
      "1\n",
      "2\n",
      "3\n",
      "4\n",
      "5\n",
      "6\n",
      "7\n",
      "8\n",
      "9\n",
      "10\n",
      "11\n",
      "12\n",
      "13\n",
      "14\n",
      "15\n",
      "16\n",
      "17\n",
      "18\n",
      "19\n",
      "20\n",
      "21\n",
      "22\n",
      "23\n",
      "24\n",
      "25\n",
      "26\n",
      "27\n",
      "28\n",
      "29\n",
      "30\n",
      "31\n",
      "32\n",
      "33\n",
      "34\n",
      "35\n",
      "36\n",
      "37\n",
      "38\n",
      "39\n",
      "40\n",
      "41\n",
      "42\n",
      "43\n",
      "44\n",
      "45\n",
      "46\n",
      "47\n",
      "48\n",
      "49\n",
      "50\n",
      "51\n",
      "52\n",
      "53\n",
      "54\n",
      "55\n",
      "56\n",
      "57\n",
      "58\n",
      "59\n",
      "60\n",
      "61\n",
      "62\n",
      "63\n",
      "64\n",
      "65\n",
      "66\n",
      "67\n",
      "68\n",
      "69\n",
      "70\n",
      "71\n",
      "72\n",
      "73\n",
      "74\n",
      "75\n",
      "76\n",
      "77\n",
      "78\n",
      "79\n",
      "80\n",
      "81\n",
      "82\n",
      "83\n",
      "84\n",
      "85\n",
      "86\n",
      "87\n",
      "88\n",
      "89\n",
      "90\n",
      "91\n",
      "92\n",
      "93\n",
      "94\n",
      "95\n",
      "96\n",
      "97\n",
      "98\n",
      "99\n",
      "100\n",
      "101\n",
      "102\n",
      "103\n",
      "104\n",
      "105\n",
      "106\n",
      "107\n",
      "108\n",
      "109\n",
      "110\n",
      "111\n",
      "112\n",
      "113\n",
      "114\n",
      "115\n",
      "116\n",
      "117\n",
      "118\n",
      "119\n",
      "120\n",
      "121\n",
      "122\n",
      "123\n",
      "124\n",
      "125\n",
      "126\n",
      "127\n",
      "128\n",
      "129\n",
      "130\n",
      "131\n",
      "132\n",
      "133\n",
      "134\n",
      "135\n",
      "136\n",
      "137\n",
      "138\n",
      "139\n",
      "140\n",
      "141\n",
      "142\n",
      "143\n",
      "144\n",
      "145\n",
      "146\n",
      "147\n",
      "148\n",
      "149\n",
      "150\n",
      "151\n",
      "152\n",
      "153\n",
      "154\n",
      "155\n",
      "156\n",
      "157\n",
      "158\n",
      "159\n",
      "160\n",
      "161\n",
      "162\n",
      "163\n",
      "164\n",
      "165\n",
      "166\n",
      "167\n",
      "168\n",
      "169\n",
      "170\n",
      "171\n",
      "172\n",
      "173\n",
      "174\n",
      "175\n",
      "176\n",
      "177\n",
      "178\n",
      "179\n",
      "180\n",
      "181\n",
      "182\n",
      "183\n",
      "184\n",
      "185\n",
      "186\n",
      "187\n",
      "188\n",
      "189\n",
      "190\n",
      "191\n",
      "192\n",
      "193\n",
      "194\n",
      "195\n",
      "196\n",
      "197\n",
      "198\n",
      "199\n"
     ]
    }
   ],
   "source": [
    "#The same thing is repeated by wearing a mask to collect our face data with mask\n",
    "\n",
    "\n",
    "capture = cv2.VideoCapture(1) #opens camera, 0 for default camera, 1 for other camera\n",
    "data = []\n",
    "\n",
    "while True:\n",
    "    flag, img = capture.read() #returns flag->true if camera working properly, img->our face image\n",
    "    if flag:\n",
    "        faces = haar_data.detectMultiScale(img)\n",
    "        for x,y,w,h in faces:\n",
    "            cv2.rectangle(img, (x, y), (x+w, y+h), (255, 0, 255), 4)\n",
    "            #for slicing the face\n",
    "            face = img[y:y+h, x:x+w, :] #3D array slicing\n",
    "            #making all the faces as same dimensions\n",
    "            face = cv2.resize(face, (50,50))\n",
    "            print(len(data)) #prints no. of faces collected\n",
    "            if len(data) < 400: #collects less than 400 faces\n",
    "                data.append(face) #appends the faces into data array\n",
    "        cv2.imshow('result', img)\n",
    "        #27 is ASCII value of Escape, hence window will be closed only if you presss escape key\n",
    "        # when max 200 faces are collected the loop breaks\n",
    "        if cv2.waitKey(2)==27 or len(data)>=200: \n",
    "            break\n",
    "            \n",
    "capture.release() #releases the camera\n",
    "cv2.destroyAllWindows()"
   ]
  },
  {
   "cell_type": "code",
   "execution_count": 31,
   "metadata": {},
   "outputs": [],
   "source": [
    "np.save('with_mask.npy', data) #saves all the 200 face data captured from the above code from data to the .npy file"
   ]
  },
  {
   "cell_type": "code",
   "execution_count": null,
   "metadata": {},
   "outputs": [],
   "source": []
  },
  {
   "cell_type": "code",
   "execution_count": 35,
   "metadata": {},
   "outputs": [
    {
     "data": {
      "text/plain": [
       "<matplotlib.image.AxesImage at 0x1472bb5d460>"
      ]
     },
     "execution_count": 35,
     "metadata": {},
     "output_type": "execute_result"
    },
    {
     "data": {
      "image/png": "[encoded data removed]",
      "text/plain": [
       "<Figure size 432x288 with 1 Axes>"
      ]
     },
     "metadata": {
      "needs_background": "light"
     },
     "output_type": "display_data"
    }
   ],
   "source": [
    "plt.imshow(data[1])"
   ]
  },
  {
   "cell_type": "code",
   "execution_count": null,
   "metadata": {},
   "outputs": [],
   "source": []
  }
 ],
 "metadata": {
  "kernelspec": {
   "display_name": "Python 3",
   "language": "python",
   "name": "python3"
  },
  "language_info": {
   "codemirror_mode": {
    "name": "ipython",
    "version": 3
   },
   "file_extension": ".py",
   "mimetype": "text/x-python",
   "name": "python",
   "nbconvert_exporter": "python",
   "pygments_lexer": "ipython3",
   "version": "3.8.3"
  }
 },
 "nbformat": 4,
 "nbformat_minor": 4
}
